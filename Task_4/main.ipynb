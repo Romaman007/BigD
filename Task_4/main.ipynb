{
 "cells": [
  {
   "cell_type": "code",
   "execution_count": 5,
   "metadata": {
    "collapsed": true
   },
   "outputs": [],
   "source": [
    "import os\n",
    "import sys\n",
    "import re\n",
    "\n",
    "from pyspark.sql import functions as F\n",
    "from pyspark import SparkContext\n",
    "from pyspark.sql import SparkSession\n",
    "from pyspark.sql.functions import col\n",
    "from pyspark.sql.types import StringType\n",
    "\n",
    "os.environ['PYSPARK_PYTHON'] = sys.executable\n",
    "os.environ['PYSPARK_DRIVER_PYTHON'] = sys.executable"
   ]
  },
  {
   "cell_type": "markdown",
   "source": [
    "##### Создаем датафрейм со словами"
   ],
   "metadata": {
    "collapsed": false
   }
  },
  {
   "cell_type": "code",
   "execution_count": 6,
   "outputs": [],
   "source": [
    "\n",
    "spark = SparkSession.builder.master('local[*]').appName('Pys').getOrCreate()\n",
    "f = open(r'C:\\Users\\Roman Andreevich\\PycharmProjects\\bigD\\wiki.txt','r',encoding=\"utf-8\")\n",
    "file = f.read()\n",
    "file = file.replace('(','')\n",
    "file = file.replace(')','')\n",
    "file = re.sub('\\d','',file)\n",
    "fi = re.split('[ %\\/,_=&?!-]',file)\n",
    "df = spark.createDataFrame(fi,StringType())"
   ],
   "metadata": {
    "collapsed": false
   }
  },
  {
   "cell_type": "markdown",
   "source": [
    "1. Напишите программу, которая находит самое длинное слово."
   ],
   "metadata": {
    "collapsed": false
   }
  },
  {
   "cell_type": "code",
   "execution_count": 7,
   "outputs": [
    {
     "data": {
      "text/plain": "Row(value='Rindfleischetikettierungsüberwachungsaufgabenübertragungsgesetz»\"', len=65)"
     },
     "execution_count": 7,
     "metadata": {},
     "output_type": "execute_result"
    }
   ],
   "source": [
    "df_temp = df.withColumn('len',F.length(df.value))\n",
    "df_temp.sort(col('len').desc()).head()"
   ],
   "metadata": {
    "collapsed": false
   }
  },
  {
   "cell_type": "markdown",
   "source": [
    "2. Напишите программу, которая находит среднюю длину слов."
   ],
   "metadata": {
    "collapsed": false
   }
  },
  {
   "cell_type": "code",
   "execution_count": 8,
   "outputs": [
    {
     "name": "stdout",
     "output_type": "stream",
     "text": [
      "+-----------------+\n",
      "|         avg(len)|\n",
      "+-----------------+\n",
      "|5.656381829659606|\n",
      "+-----------------+\n",
      "\n"
     ]
    }
   ],
   "source": [
    "df_temp.select(F.mean(col('len'))).show()"
   ],
   "metadata": {
    "collapsed": false
   }
  },
  {
   "cell_type": "markdown",
   "source": [
    "3. Напишите программу, которая находит самое частоупотребляемое слово, состоящее из латинских букв."
   ],
   "metadata": {
    "collapsed": false
   }
  },
  {
   "cell_type": "code",
   "execution_count": 14,
   "outputs": [
    {
     "data": {
      "text/plain": "Row(value='wiki', count=12614)"
     },
     "execution_count": 14,
     "metadata": {},
     "output_type": "execute_result"
    }
   ],
   "source": [
    "df_temp = df.filter(col('value').rlike('^[A-Za-z]'))\n",
    "df_temp =df_temp.groupby('value').count()\n",
    "df_temp.sort(col('count').desc()).head()"
   ],
   "metadata": {
    "collapsed": false
   }
  },
  {
   "cell_type": "markdown",
   "source": [
    "4. Все слова, которые более чем в половине случаев начинаются с большой буквы и встречаются больше 10 раз."
   ],
   "metadata": {
    "collapsed": false
   }
  },
  {
   "cell_type": "code",
   "execution_count": 10,
   "outputs": [
    {
     "name": "stdout",
     "output_type": "stream",
     "text": [
      "+--------------+------+-----+------------------+\n",
      "|           low|count1|count|              coef|\n",
      "+--------------+------+-----+------------------+\n",
      "|адмиралтейства|    27|    6|0.7777777777777778|\n",
      "|    азиатского|    36|   16|0.5555555555555556|\n",
      "|      азовский|    11|    2|0.8181818181818182|\n",
      "|      азовской|    19|    1|0.9473684210526315|\n",
      "|     алексеева|    34|    1|0.9705882352941176|\n",
      "+--------------+------+-----+------------------+\n",
      "only showing top 5 rows\n",
      "\n"
     ]
    }
   ],
   "source": [
    "# Датафрейм с общим количеством слов\n",
    "df_temp=df.filter(col('value').rlike('^[А-Яа-я]*$'))\n",
    "df_temp=df_temp.select(F.lower('value').alias('low'))\n",
    "df_temp =df_temp.groupby(col('low')).count()\n",
    "df_temp = df_temp.filter(col('count')>=10)\n",
    "df_temp=df_temp.withColumnRenamed('count','count1')\n",
    "\n",
    "# Датафрейм с раздельным количеством по регистру\n",
    "df_temp_all = df.groupby(col('value')).count()\n",
    "\n",
    "# Объединяем по словам innerjoin\n",
    "df_temp = df_temp.join(df_temp_all,df_temp.low==df_temp_all.value,'inner')\n",
    "df_temp =df_temp.drop('value')\n",
    "\n",
    "# Считаем отношение больших к маленьким\n",
    "df_temp = df_temp.withColumn('coef', (df_temp['count1']-df_temp['count'])/df_temp['count1'])\n",
    "df_temp.filter(col('coef')>0.5).show(5)"
   ],
   "metadata": {
    "collapsed": false
   }
  },
  {
   "cell_type": "markdown",
   "source": [
    "6. Напишите программу, которая с помощью статистики определяет устойчивые сокращения вида т.п., н.э., ..."
   ],
   "metadata": {
    "collapsed": false
   }
  },
  {
   "cell_type": "code",
   "execution_count": 11,
   "outputs": [
    {
     "name": "stdout",
     "output_type": "stream",
     "text": [
      "+-----+\n",
      "|value|\n",
      "+-----+\n",
      "| н.э.|\n",
      "| т.д.|\n",
      "| м.н.|\n",
      "| с.ш.|\n",
      "| в.д.|\n",
      "+-----+\n",
      "only showing top 5 rows\n",
      "\n"
     ]
    }
   ],
   "source": [
    "df.filter(col('value').rlike('^[а-я]\\.[а-я]\\.$')).show(5)"
   ],
   "metadata": {
    "collapsed": false
   }
  },
  {
   "cell_type": "markdown",
   "source": [
    "7. Напишите программу, которая с помощью статистики находит имена собственные, употребляющиеся в статьях."
   ],
   "metadata": {
    "collapsed": false
   }
  },
  {
   "cell_type": "code",
   "execution_count": 12,
   "outputs": [
    {
     "name": "stdout",
     "output_type": "stream",
     "text": [
      "+-----------+\n",
      "|      value|\n",
      "+-----------+\n",
      "|     Литва́|\n",
      "| Лито́вская|\n",
      "|Респу́блика|\n",
      "|   Северной|\n",
      "|     Европе|\n",
      "+-----------+\n",
      "only showing top 5 rows\n",
      "\n"
     ]
    }
   ],
   "source": [
    "df.filter(col('value').rlike('^[А-Я][а-я]*')).show(5)"
   ],
   "metadata": {
    "collapsed": false
   }
  },
  {
   "cell_type": "code",
   "execution_count": null,
   "outputs": [],
   "source": [],
   "metadata": {
    "collapsed": false
   }
  }
 ],
 "metadata": {
  "kernelspec": {
   "display_name": "Python 3",
   "language": "python",
   "name": "python3"
  },
  "language_info": {
   "codemirror_mode": {
    "name": "ipython",
    "version": 2
   },
   "file_extension": ".py",
   "mimetype": "text/x-python",
   "name": "python",
   "nbconvert_exporter": "python",
   "pygments_lexer": "ipython2",
   "version": "2.7.6"
  }
 },
 "nbformat": 4,
 "nbformat_minor": 0
}
